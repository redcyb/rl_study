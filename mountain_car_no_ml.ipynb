{
 "cells": [
  {
   "cell_type": "code",
   "execution_count": 1,
   "metadata": {},
   "outputs": [],
   "source": [
    "import gym\n",
    "import matplotlib.pyplot as plt\n",
    "import numpy as np\n",
    "\n",
    "from IPython import display"
   ]
  },
  {
   "cell_type": "code",
   "execution_count": 2,
   "metadata": {},
   "outputs": [],
   "source": [
    "plt.ion()"
   ]
  },
  {
   "cell_type": "code",
   "execution_count": 3,
   "metadata": {},
   "outputs": [
    {
     "name": "stdout",
     "output_type": "stream",
     "text": [
      "Action space: Discrete(3)\n",
      "Observation space: Box(2,)\n",
      "Initial state: [-0.45050959  0.        ]\n"
     ]
    }
   ],
   "source": [
    "env = gym.make(\"MountainCar-v0\")\n",
    "print(f\"Action space: {env.action_space}\")\n",
    "print(f\"Observation space: {env.observation_space}\")\n",
    "\n",
    "s = env.reset()\n",
    "print(f\"Initial state: {s}\")"
   ]
  },
  {
   "cell_type": "code",
   "execution_count": 4,
   "metadata": {},
   "outputs": [
    {
     "name": "stdout",
     "output_type": "stream",
     "text": [
      "You solved it!\n"
     ]
    },
    {
     "data": {
      "image/png": "[encoded data removed]",
      "text/plain": [
       "<Figure size 432x288 with 1 Axes>"
      ]
     },
     "metadata": {
      "needs_background": "light"
     },
     "output_type": "display_data"
    }
   ],
   "source": [
    "s = env.reset()\n",
    "print(\"initial s:\", s)\n",
    "actions = {'left': 0, 'stop': 1, 'right': 2}\n",
    "\n",
    "prev_velo = 0\n",
    "curr_velo = 0\n",
    "\n",
    "prev_x = s[0]\n",
    "curr_x = s[0]\n",
    "\n",
    "deepest_x = -0.5\n",
    "\n",
    "mode = \"right\" if curr_x < deepest_x else \"left\"\n",
    "\n",
    "\n",
    "def switch_mode(_mode):\n",
    "    if _mode == \"right\":\n",
    "        return \"left\"\n",
    "    return \"right\"\n",
    "\n",
    "\n",
    "step = 0\n",
    "\n",
    "while True:\n",
    "    step += 1\n",
    "    plt.gca().clear()\n",
    "\n",
    "    prev_x = s[0]\n",
    "\n",
    "    s, r, done, _ = env.step(actions[mode])\n",
    "    print(s, r, done)\n",
    "\n",
    "    curr_x = s[0]\n",
    "\n",
    "    if (mode == \"right\" and curr_x < prev_x) or (mode == \"left\" and curr_x > prev_x):\n",
    "        mode = switch_mode(mode)\n",
    "\n",
    "    plt.imshow(env.render('rgb_array'))\n",
    "\n",
    "    display.clear_output(wait=True)\n",
    "    display.display(plt.gcf())\n",
    "\n",
    "    if done:\n",
    "        print(\"Well done!\")\n",
    "        break\n",
    "\n",
    "print(f\"Spent {step}\")\n",
    "\n",
    "display.clear_output(wait=True)\n",
    "\n",
    "assert s[0] > 0.47\n",
    "print(\"You solved it!\")\n",
    "\n",
    "env.render()\n",
    "env.close()\n",
    "\n",
    "# plt.ioff()\n",
    "# plt.show()"
   ]
  },
  {
   "cell_type": "code",
   "execution_count": null,
   "metadata": {},
   "outputs": [],
   "source": []
  }
 ],
 "metadata": {
  "kernelspec": {
   "display_name": "Python 3",
   "language": "python",
   "name": "python3"
  },
  "language_info": {
   "codemirror_mode": {
    "name": "ipython",
    "version": 3
   },
   "file_extension": ".py",
   "mimetype": "text/x-python",
   "name": "python",
   "nbconvert_exporter": "python",
   "pygments_lexer": "ipython3",
   "version": "3.7.3"
  }
 },
 "nbformat": 4,
 "nbformat_minor": 2
}
