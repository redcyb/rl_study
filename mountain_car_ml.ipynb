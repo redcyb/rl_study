{
 "cells": [
  {
   "cell_type": "code",
   "execution_count": 1,
   "metadata": {},
   "outputs": [],
   "source": [
    "import gym\n",
    "import matplotlib.pyplot as plt\n",
    "import numpy as np\n",
    "\n",
    "from IPython import display"
   ]
  },
  {
   "cell_type": "code",
   "execution_count": 2,
   "metadata": {},
   "outputs": [
    {
     "name": "stdout",
     "output_type": "stream",
     "text": [
      "Action space: Discrete(3)\n",
      "Observation space: Box(2,)\n",
      "Initial state: [-0.42119291  0.        ]\n"
     ]
    }
   ],
   "source": [
    "env = gym.make(\"MountainCar-v0\")\n",
    "\n",
    "TIME_LIMIT = 400\n",
    "env = gym.wrappers.TimeLimit(\n",
    "    gym.envs.classic_control.MountainCarEnv(),\n",
    "    max_episode_steps=TIME_LIMIT + 1,\n",
    ")\n",
    "\n",
    "print(f\"Action space: {env.action_space}\")\n",
    "print(f\"Observation space: {env.observation_space}\")\n",
    "\n",
    "s = env.reset()\n",
    "print(f\"Initial state: {s}\")"
   ]
  },
  {
   "cell_type": "code",
   "execution_count": 3,
   "metadata": {
    "scrolled": true
   },
   "outputs": [
    {
     "name": "stdout",
     "output_type": "stream",
     "text": [
      "0.6 -1.2\n",
      "0.07 -0.07\n"
     ]
    },
    {
     "data": {
      "text/plain": [
       "2"
      ]
     },
     "execution_count": 3,
     "metadata": {},
     "output_type": "execute_result"
    }
   ],
   "source": [
    "x_high, v_high = env.observation_space.high\n",
    "x_low, v_low = env.observation_space.low\n",
    "\n",
    "x_deepest = -0.5\n",
    "\n",
    "n_actions = env.action_space.n - 1\n",
    "\n",
    "print(x_high, x_low)\n",
    "print(v_high, v_low)\n",
    "\n",
    "n_actions"
   ]
  },
  {
   "cell_type": "code",
   "execution_count": 4,
   "metadata": {},
   "outputs": [
    {
     "name": "stdout",
     "output_type": "stream",
     "text": [
      "[-0.07       -0.06858586 -0.06717172 -0.06575758 -0.06434343 -0.06292929\n",
      " -0.06151515 -0.06010101 -0.05868687 -0.05727273 -0.05585859 -0.05444444\n",
      " -0.0530303  -0.05161616 -0.05020202 -0.04878788 -0.04737374 -0.0459596\n",
      " -0.04454545 -0.04313131 -0.04171717 -0.04030303 -0.03888889 -0.03747475\n",
      " -0.03606061 -0.03464646 -0.03323232 -0.03181818 -0.03040404 -0.0289899\n",
      " -0.02757576 -0.02616162 -0.02474747 -0.02333333 -0.02191919 -0.02050505\n",
      " -0.01909091 -0.01767677 -0.01626263 -0.01484848 -0.01343434 -0.0120202\n",
      " -0.01060606 -0.00919192 -0.00777778 -0.00636364 -0.00494949 -0.00353535\n",
      " -0.00212121 -0.00070707  0.00070707  0.00212121  0.00353535  0.00494949\n",
      "  0.00636364  0.00777778  0.00919192  0.01060606  0.0120202   0.01343434\n",
      "  0.01484848  0.01626263  0.01767677  0.01909091  0.02050505  0.02191919\n",
      "  0.02333333  0.02474747  0.02616162  0.02757576  0.0289899   0.03040404\n",
      "  0.03181818  0.03323232  0.03464646  0.03606061  0.03747475  0.03888889\n",
      "  0.04030303  0.04171717  0.04313131  0.04454545  0.0459596   0.04737374\n",
      "  0.04878788  0.05020202  0.05161616  0.0530303   0.05444444  0.05585859\n",
      "  0.05727273  0.05868687  0.06010101  0.06151515  0.06292929  0.06434343\n",
      "  0.06575758  0.06717172  0.06858586  0.07      ]\n"
     ]
    }
   ],
   "source": [
    "real_states = np.linspace(v_low, v_high, 100)\n",
    "n_states = len(real_states)\n",
    "print(real_states)"
   ]
  },
  {
   "cell_type": "code",
   "execution_count": 5,
   "metadata": {},
   "outputs": [],
   "source": [
    "policy = np.ones((n_states, n_actions), dtype=\"float\") / n_actions\n",
    "# policy"
   ]
  },
  {
   "cell_type": "code",
   "execution_count": 6,
   "metadata": {},
   "outputs": [],
   "source": [
    "def get_state_idx(val):\n",
    "#     print(\"val: \", val)\n",
    "    mmin = min(real_states, key=lambda x: abs(x - val))\n",
    "#     print(\"min: \", mmin)\n",
    "    result = np.where(real_states == mmin)\n",
    "#     result = np.where(np.isclose(real_states, val, rtol=1.e-2, atol=1.e-6))\n",
    "#     print(\"result: \", result)\n",
    "    _idx = result[0][0]\n",
    "    return _idx\n",
    "\n",
    "import math\n",
    "\n",
    "def generate_session(policy, t_max=int(10**4)):\n",
    "    states, actions = [], []\n",
    "    total_reward = 0.\n",
    "\n",
    "    x, v = env.reset()\n",
    "    \n",
    "    _sign = v > 0\n",
    "    \n",
    "    for t in range(t_max):\n",
    "        \n",
    "        s_idx = get_state_idx(v)\n",
    "        a = np.random.choice(n_actions, p=policy[s_idx])\n",
    "        \n",
    "        new_s, r, done, info = env.step(0 if a == 0 else 2)\n",
    "        \n",
    "        states.append(s_idx)\n",
    "        \n",
    "        actions.append(a)\n",
    "        \n",
    "        x, v = new_s\n",
    "        \n",
    "        new_sign = v > 0\n",
    "        \n",
    "#         r1 = 1 if (x < x_deepest and v < 0) or (x > x_deepest and v > 0) else -1\n",
    "        \n",
    "#         r2 = 0\n",
    "\n",
    "#         r2 = 1 if _sign == new_sign else -5\n",
    "\n",
    "#         if v < 0:\n",
    "#             _r = (abs(v * 10) + math.exp(0.1 / (0.6 - x))) if _sign == new_sign else -5\n",
    "#         else:\n",
    "#             _r = (abs(v * 5) + math.exp(0.1 / (0.6 - x))) if _sign == new_sign else -10\n",
    "            \n",
    "#         _r = (abs(v * 10) + 1 / (0.6 - x)) if _sign == new_sign else -1\n",
    "        \n",
    "#         r2 = math.exp(abs(v * 10)) + math.exp(0.1 / (0.6 - x))) if _sign == new_sign else -1\n",
    "        r2 = 1 if _sign == new_sign else -10\n",
    "\n",
    "        total_reward += r + r2\n",
    "\n",
    "        _sign = new_sign\n",
    "        \n",
    "        if done:\n",
    "            break\n",
    "            \n",
    "    return states, actions, total_reward"
   ]
  },
  {
   "cell_type": "code",
   "execution_count": 7,
   "metadata": {},
   "outputs": [],
   "source": [
    "# _ss = generate_session(policy, t_max=10)"
   ]
  },
  {
   "cell_type": "code",
   "execution_count": 8,
   "metadata": {},
   "outputs": [
    {
     "data": {
      "text/plain": [
       "<matplotlib.legend.Legend at 0x7f230c34af28>"
      ]
     },
     "execution_count": 8,
     "metadata": {},
     "output_type": "execute_result"
    },
    {
     "data": {
      "image/png": "[encoded data removed]",
      "text/plain": [
       "<Figure size 432x288 with 1 Axes>"
      ]
     },
     "metadata": {
      "needs_background": "light"
     },
     "output_type": "display_data"
    }
   ],
   "source": [
    "# let's see the initial reward distribution\n",
    "import matplotlib.pyplot as plt\n",
    "%matplotlib inline\n",
    "\n",
    "sample_rewards = [generate_session(policy, t_max=1000)[-1] for _ in range(200)]\n",
    "\n",
    "plt.hist(sample_rewards, bins=20)\n",
    "plt.vlines([np.percentile(sample_rewards, 50)], [0], [100], label=\"50'th percentile\", color='green')\n",
    "plt.vlines([np.percentile(sample_rewards, 90)], [0], [100], label=\"90'th percentile\", color='red')\n",
    "plt.legend()"
   ]
  },
  {
   "cell_type": "code",
   "execution_count": 9,
   "metadata": {},
   "outputs": [],
   "source": [
    "def select_elites(states_batch, actions_batch, rewards_batch, percentile=50):\n",
    "    reward_threshold = np.percentile(rewards_batch, percentile)\n",
    "\n",
    "    elite_mask = np.asarray(rewards_batch) >= reward_threshold\n",
    "    elite_states = np.asarray(states_batch)[elite_mask]\n",
    "    elite_actions = np.asarray(actions_batch)[elite_mask]\n",
    "\n",
    "    return np.concatenate(elite_states), np.concatenate(elite_actions)"
   ]
  },
  {
   "cell_type": "code",
   "execution_count": 10,
   "metadata": {},
   "outputs": [],
   "source": [
    "def update_policy(elite_states, elite_actions):\n",
    "    new_policy = np.zeros([n_states, n_actions])\n",
    "    \n",
    "    for idx, s in enumerate(elite_states):\n",
    "        new_policy[s, elite_actions[idx]] += 1.\n",
    "        \n",
    "    never_visited_mask = new_policy.sum(axis=1) == 0.\n",
    "    \n",
    "    new_policy[never_visited_mask] = 1.\n",
    "\n",
    "    new_policy /= new_policy.sum(axis=1)[:, None]\n",
    "    \n",
    "    return new_policy"
   ]
  },
  {
   "cell_type": "code",
   "execution_count": 11,
   "metadata": {},
   "outputs": [],
   "source": [
    "def show_progress(rewards_batch, log, percentile, reward_range=[-100, +10]):\n",
    "    mean_reward = np.mean(rewards_batch)\n",
    "    threshold = np.percentile(rewards_batch, percentile)\n",
    "    log.append([mean_reward, threshold])\n",
    "\n",
    "    display.clear_output(True)\n",
    "    print(\"mean reward = %.3f, threshold=%.3f\" % (mean_reward, threshold))\n",
    "    plt.figure(figsize=[8, 4])\n",
    "    plt.subplot(1, 2, 1)\n",
    "    plt.plot(list(zip(*log))[0], label='Mean rewards')\n",
    "    plt.plot(list(zip(*log))[1], label='Reward thresholds')\n",
    "    plt.legend()\n",
    "    plt.grid()\n",
    "\n",
    "    plt.subplot(1, 2, 2)\n",
    "    plt.hist(rewards_batch, range=reward_range)\n",
    "    plt.vlines([np.percentile(rewards_batch, percentile)],\n",
    "               [0], [100], label=\"percentile\", color='red')\n",
    "    plt.legend()\n",
    "    plt.grid()\n",
    "\n",
    "    plt.show()"
   ]
  },
  {
   "cell_type": "code",
   "execution_count": 12,
   "metadata": {},
   "outputs": [],
   "source": [
    "policy = np.ones((n_states, n_actions), dtype=\"float\") / n_actions"
   ]
  },
  {
   "cell_type": "code",
   "execution_count": 13,
   "metadata": {},
   "outputs": [
    {
     "name": "stdout",
     "output_type": "stream",
     "text": [
      "mean reward = -35.860, threshold=-33.000\n"
     ]
    },
    {
     "data": {
      "image/png": "[encoded data removed]",
      "text/plain": [
       "<Figure size 576x288 with 2 Axes>"
      ]
     },
     "metadata": {
      "needs_background": "light"
     },
     "output_type": "display_data"
    }
   ],
   "source": [
    "n_sessions = 100  # sample this many sessions\n",
    "percentile = 80  # take this percent of session with highest rewards\n",
    "learning_rate = 0.5  # add this thing to all counts for stability\n",
    "\n",
    "log = []\n",
    "\n",
    "for i in range(100):\n",
    "\n",
    "    %time sessions = [generate_session(policy) for _ in range(n_sessions)]\n",
    "    #  [ < generate a list of n_sessions new sessions > ]\n",
    "\n",
    "    states_batch, actions_batch, rewards_batch = zip(*sessions)\n",
    "    \n",
    "    if i+1 % 5:\n",
    "        learning_rate *= 0.99\n",
    "    \n",
    "    elite_states, elite_actions = select_elites(\n",
    "        states_batch, \n",
    "        actions_batch, \n",
    "        rewards_batch, \n",
    "        percentile=percentile\n",
    "    )\n",
    "\n",
    "    new_policy = update_policy(elite_states, elite_actions)\n",
    "\n",
    "    policy = learning_rate * new_policy + (1-learning_rate) * policy\n",
    "\n",
    "    # display results on chart\n",
    "    show_progress(rewards_batch, log, percentile)"
   ]
  },
  {
   "cell_type": "code",
   "execution_count": 20,
   "metadata": {},
   "outputs": [
    {
     "name": "stdout",
     "output_type": "stream",
     "text": [
      "Spent: 200\n"
     ]
    }
   ],
   "source": [
    "import time\n",
    "\n",
    "x, v = env.reset()\n",
    "\n",
    "step = 0\n",
    "\n",
    "while True:\n",
    "    step += 1\n",
    "    \n",
    "    s_idx = get_state_idx(v)\n",
    "    \n",
    "    a = np.random.choice(n_actions, p=policy[s_idx])\n",
    "    \n",
    "    new_s, r, done, info = env.step(0 if a == 0 else 2)\n",
    "    \n",
    "    x, v = new_s\n",
    "    \n",
    "    display.clear_output()\n",
    "    env.render()\n",
    "#     time.sleep(1)\n",
    "    \n",
    "    if done:\n",
    "        break\n",
    "\n",
    "print(f\"Spent: {step}\")"
   ]
  },
  {
   "cell_type": "code",
   "execution_count": 21,
   "metadata": {},
   "outputs": [
    {
     "data": {
      "text/plain": [
       "array([[5.00000000e-01, 5.00000000e-01],\n",
       "       [5.00000000e-01, 5.00000000e-01],\n",
       "       [5.00000000e-01, 5.00000000e-01],\n",
       "       [5.00000015e-01, 4.99999985e-01],\n",
       "       [4.99999031e-01, 5.00000969e-01],\n",
       "       [4.99966174e-01, 5.00033826e-01],\n",
       "       [5.00049804e-01, 4.99950196e-01],\n",
       "       [4.99871512e-01, 5.00128488e-01],\n",
       "       [4.99997825e-01, 5.00002175e-01],\n",
       "       [5.00166390e-01, 4.99833610e-01],\n",
       "       [4.99712298e-01, 5.00287702e-01],\n",
       "       [5.00202258e-01, 4.99797742e-01],\n",
       "       [4.92961488e-01, 5.07038512e-01],\n",
       "       [4.75655563e-01, 5.24344437e-01],\n",
       "       [4.59111226e-01, 5.40888774e-01],\n",
       "       [3.47910435e-01, 6.52089565e-01],\n",
       "       [2.94011445e-01, 7.05988555e-01],\n",
       "       [3.43201475e-01, 6.56798525e-01],\n",
       "       [2.59906429e-01, 7.40093571e-01],\n",
       "       [1.02911973e-05, 9.99989709e-01],\n",
       "       [4.74678636e-01, 5.25321364e-01],\n",
       "       [6.25705346e-01, 3.74294654e-01],\n",
       "       [6.74131780e-01, 3.25868220e-01],\n",
       "       [7.61498370e-01, 2.38501630e-01],\n",
       "       [9.85901357e-01, 1.40986427e-02],\n",
       "       [7.18390854e-01, 2.81609146e-01],\n",
       "       [8.70598530e-01, 1.29401470e-01],\n",
       "       [9.79015324e-01, 2.09846761e-02],\n",
       "       [9.27520690e-01, 7.24793100e-02],\n",
       "       [9.12220433e-01, 8.77795666e-02],\n",
       "       [9.02021151e-01, 9.79788494e-02],\n",
       "       [9.54276115e-01, 4.57238852e-02],\n",
       "       [6.55357416e-01, 3.44642584e-01],\n",
       "       [8.53967302e-01, 1.46032698e-01],\n",
       "       [8.23656083e-01, 1.76343917e-01],\n",
       "       [8.10115207e-01, 1.89884793e-01],\n",
       "       [8.73519664e-01, 1.26480336e-01],\n",
       "       [6.52225539e-01, 3.47774461e-01],\n",
       "       [6.69780829e-01, 3.30219171e-01],\n",
       "       [7.54207769e-01, 2.45792231e-01],\n",
       "       [7.77448718e-01, 2.22551282e-01],\n",
       "       [8.56847034e-01, 1.43152966e-01],\n",
       "       [7.79555974e-01, 2.20444026e-01],\n",
       "       [7.94251868e-01, 2.05748132e-01],\n",
       "       [7.49029908e-01, 2.50970092e-01],\n",
       "       [8.22992317e-01, 1.77007683e-01],\n",
       "       [9.00616061e-01, 9.93839391e-02],\n",
       "       [8.22642594e-01, 1.77357406e-01],\n",
       "       [7.09249090e-01, 2.90750910e-01],\n",
       "       [9.92219958e-01, 7.78004163e-03],\n",
       "       [1.89083769e-01, 8.10916231e-01],\n",
       "       [7.47996193e-02, 9.25200381e-01],\n",
       "       [3.01959291e-01, 6.98040709e-01],\n",
       "       [3.34700455e-01, 6.65299545e-01],\n",
       "       [3.12982387e-01, 6.87017613e-01],\n",
       "       [3.18636350e-01, 6.81363650e-01],\n",
       "       [1.94944878e-01, 8.05055122e-01],\n",
       "       [1.51172714e-01, 8.48827286e-01],\n",
       "       [9.29071126e-02, 9.07092887e-01],\n",
       "       [1.69427888e-01, 8.30572112e-01],\n",
       "       [9.13041341e-02, 9.08695866e-01],\n",
       "       [2.31446004e-01, 7.68553996e-01],\n",
       "       [2.80676465e-01, 7.19323535e-01],\n",
       "       [1.90343942e-01, 8.09656058e-01],\n",
       "       [2.03781010e-01, 7.96218990e-01],\n",
       "       [1.49906305e-01, 8.50093695e-01],\n",
       "       [2.89997122e-01, 7.10002878e-01],\n",
       "       [4.03962442e-01, 5.96037558e-01],\n",
       "       [3.57259789e-01, 6.42740211e-01],\n",
       "       [1.24539560e-01, 8.75460440e-01],\n",
       "       [2.10334980e-01, 7.89665020e-01],\n",
       "       [3.26289022e-02, 9.67371098e-01],\n",
       "       [4.03447541e-01, 5.96552459e-01],\n",
       "       [1.12912595e-01, 8.87087405e-01],\n",
       "       [4.88980989e-01, 5.11019011e-01],\n",
       "       [1.96443474e-01, 8.03556526e-01],\n",
       "       [1.59680387e-01, 8.40319613e-01],\n",
       "       [6.56454237e-01, 3.43545763e-01],\n",
       "       [1.04334211e-01, 8.95665789e-01],\n",
       "       [2.69808664e-01, 7.30191336e-01],\n",
       "       [5.56330115e-02, 9.44366988e-01],\n",
       "       [1.01069219e-01, 8.98930781e-01],\n",
       "       [1.53387664e-02, 9.84661234e-01],\n",
       "       [2.34556216e-02, 9.76544378e-01],\n",
       "       [1.20300575e-01, 8.79699425e-01],\n",
       "       [1.98458019e-01, 8.01541981e-01],\n",
       "       [1.81120767e-01, 8.18879233e-01],\n",
       "       [2.46826669e-01, 7.53173331e-01],\n",
       "       [1.00000000e+00, 5.67273793e-12],\n",
       "       [7.83070685e-01, 2.16929315e-01],\n",
       "       [7.20654023e-01, 2.79345977e-01],\n",
       "       [4.81610362e-01, 5.18389638e-01],\n",
       "       [5.40887638e-01, 4.59112362e-01],\n",
       "       [4.99996171e-01, 5.00003829e-01],\n",
       "       [5.00000000e-01, 5.00000000e-01],\n",
       "       [5.00000000e-01, 5.00000000e-01],\n",
       "       [5.00000000e-01, 5.00000000e-01],\n",
       "       [5.00000000e-01, 5.00000000e-01],\n",
       "       [5.00000000e-01, 5.00000000e-01],\n",
       "       [5.00000000e-01, 5.00000000e-01]])"
      ]
     },
     "execution_count": 21,
     "metadata": {},
     "output_type": "execute_result"
    }
   ],
   "source": [
    "policy"
   ]
  },
  {
   "cell_type": "code",
   "execution_count": 22,
   "metadata": {},
   "outputs": [],
   "source": [
    "# record sessions\n",
    "import gym.wrappers\n",
    "env = gym.wrappers.Monitor(\n",
    "    gym.make(\"MountainCar-v0\"), \n",
    "    directory=\"videos\", \n",
    "    force=True\n",
    ")\n",
    "\n",
    "sessions = [generate_session(policy, 1000) for _ in range(5)]\n",
    "env.close()"
   ]
  },
  {
   "cell_type": "code",
   "execution_count": 17,
   "metadata": {},
   "outputs": [],
   "source": [
    "# # show video\n",
    "# from IPython.display import HTML\n",
    "# import os\n",
    "\n",
    "# video_names = list(filter(lambda s: s.endswith(\".mp4\"), os.listdir(\"./videos/\")))\n",
    "\n",
    "# HTML(\"\"\"\n",
    "#      <video width=\"640\" height=\"480\" controls><source src=\"{}\" type=\"video/mp4\">\n",
    "# </video>\n",
    "# \"\"\".format(\"./videos/\"+video_names[0]))  # this may or may not be _last_ video. Try other indices"
   ]
  },
  {
   "cell_type": "code",
   "execution_count": null,
   "metadata": {},
   "outputs": [],
   "source": []
  }
 ],
 "metadata": {
  "kernelspec": {
   "display_name": "Python 3",
   "language": "python",
   "name": "python3"
  },
  "language_info": {
   "codemirror_mode": {
    "name": "ipython",
    "version": 3
   },
   "file_extension": ".py",
   "mimetype": "text/x-python",
   "name": "python",
   "nbconvert_exporter": "python",
   "pygments_lexer": "ipython3",
   "version": "3.7.3"
  }
 },
 "nbformat": 4,
 "nbformat_minor": 2
}
