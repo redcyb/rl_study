{
  "nbformat": 4,
  "nbformat_minor": 0,
  "metadata": {
    "kernelspec": {
      "display_name": "Python 3",
      "language": "python",
      "name": "python3"
    },
    "language_info": {
      "codemirror_mode": {
        "name": "ipython",
        "version": 3
      },
      "file_extension": ".py",
      "mimetype": "text/x-python",
      "name": "python",
      "nbconvert_exporter": "python",
      "pygments_lexer": "ipython3",
      "version": "3.7.3"
    },
    "colab": {
      "name": "gauss-newton.ipynb",
      "provenance": [],
      "collapsed_sections": []
    }
  },
  "cells": [
    {
      "cell_type": "code",
      "metadata": {
        "id": "gqEGdyuY5bM2",
        "colab_type": "code",
        "colab": {}
      },
      "source": [
        "import numpy as np"
      ],
      "execution_count": 0,
      "outputs": []
    },
    {
      "cell_type": "code",
      "metadata": {
        "id": "2N1NZsg25bM7",
        "colab_type": "code",
        "colab": {}
      },
      "source": [
        "XS = np.array([0.038, 0.194, 0.425, 0.626, 1.253, 2.500, 3.740])\n",
        "YS = np.array([0.050, 0.127, 0.094, 0.2122, 0.2729, 0.2665, 0.3317])\n",
        "BS = np.array([0.8, 0.4], dtype=np.float)"
      ],
      "execution_count": 0,
      "outputs": []
    },
    {
      "cell_type": "code",
      "metadata": {
        "id": "xcuA0Kle5bM9",
        "colab_type": "code",
        "colab": {}
      },
      "source": [
        "def y_expected(bs, xs, ys):\n",
        "    return xs * bs[0] / (xs + bs[1])\n",
        "\n",
        "\n",
        "def r(bs, xs, ys):\n",
        "    return ys - y_expected(bs, xs, ys)\n",
        "\n",
        "\n",
        "def dr_b1(bs, xs):\n",
        "    return -xs / (bs[1] + xs)\n",
        "\n",
        "\n",
        "def dr_b2(bs, xs):\n",
        "    return (bs[0] * xs) / ((bs[1] + xs) ** 2)"
      ],
      "execution_count": 0,
      "outputs": []
    },
    {
      "cell_type": "code",
      "metadata": {
        "id": "_efVVkco5bNA",
        "colab_type": "code",
        "colab": {}
      },
      "source": [
        "bss = np.array(BS)\n",
        "jr = np.zeros((len(XS), 2))\n",
        "\n",
        "mses = []"
      ],
      "execution_count": 0,
      "outputs": []
    },
    {
      "cell_type": "code",
      "metadata": {
        "id": "YIO6uWtl5bNC",
        "colab_type": "code",
        "outputId": "ac2d3b0f-5ee5-4514-a32f-260c08964a26",
        "colab": {
          "base_uri": "https://localhost:8080/",
          "height": 238
        }
      },
      "source": [
        "for i in range(6):\n",
        "    print()\n",
        "\n",
        "    jr[:, 0] = dr_b1(bss, XS)\n",
        "    jr[:, 1] = dr_b2(bss, XS)\n",
        "\n",
        "    jj = (np.dot(np.dot(np.linalg.inv(np.dot(jr.T, jr)), jr.T), r(bss, XS, YS)))\n",
        "\n",
        "    bss -= jj\n",
        "\n",
        "    print(bss)\n",
        "\n",
        "    mses.append(np.sqrt(np.sum(r(bss, XS, YS) ** 2) / len(XS)))"
      ],
      "execution_count": 0,
      "outputs": [
        {
          "output_type": "stream",
          "text": [
            "\n",
            "[0.34712768 0.95146721]\n",
            "\n",
            "[0.35042376 0.35523741]\n",
            "\n",
            "[0.35309438 0.49101871]\n",
            "\n",
            "[0.36043924 0.54723913]\n",
            "\n",
            "[0.36171242 0.55554035]\n",
            "\n",
            "[0.36182764 0.55621372]\n"
          ],
          "name": "stdout"
        }
      ]
    },
    {
      "cell_type": "code",
      "metadata": {
        "id": "QeUm1Atg5bNF",
        "colab_type": "code",
        "outputId": "ae8dcfb3-1424-43db-a698-6b28afc6ec32",
        "colab": {
          "base_uri": "https://localhost:8080/",
          "height": 266
        }
      },
      "source": [
        "import matplotlib.pyplot as plt\n",
        "%matplotlib inline\n",
        "\n",
        "plt.figure(figsize=[12, 4])\n",
        "\n",
        "plt.subplot(1, 2, 1)\n",
        "plt.plot(mses, label='MSE')\n",
        "\n",
        "plt.subplot(1, 2, 2)\n",
        "plt.plot(XS, YS, label='YS')\n",
        "plt.plot(XS, y_expected(bss, XS, YS), label='TS')\n",
        "\n",
        "plt.legend()\n",
        "plt.grid()\n",
        "    \n",
        "plt.show()"
      ],
      "execution_count": 0,
      "outputs": [
        {
          "output_type": "display_data",
          "data": {
            "image/png": "[encoded data removed]",
            "text/plain": [
              "<Figure size 864x288 with 2 Axes>"
            ]
          },
          "metadata": {
            "tags": []
          }
        }
      ]
    },
    {
      "cell_type": "code",
      "metadata": {
        "id": "qdOSr7kS5bNI",
        "colab_type": "code",
        "outputId": "9f3c05d5-b7d8-4014-bac3-bc9915199ff4",
        "colab": {
          "base_uri": "https://localhost:8080/",
          "height": 35
        }
      },
      "source": [
        "np.round(mses, 6)"
      ],
      "execution_count": 0,
      "outputs": [
        {
          "output_type": "execute_result",
          "data": {
            "text/plain": [
              "array([0.054349, 0.040616, 0.033783, 0.03348 , 0.033475, 0.033475])"
            ]
          },
          "metadata": {
            "tags": []
          },
          "execution_count": 7
        }
      ]
    },
    {
      "cell_type": "code",
      "metadata": {
        "id": "pZ9DYj6Z6tYf",
        "colab_type": "code",
        "colab": {}
      },
      "source": [
        ""
      ],
      "execution_count": 0,
      "outputs": []
    }
  ]
}